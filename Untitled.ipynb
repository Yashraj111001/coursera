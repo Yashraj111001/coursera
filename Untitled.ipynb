{
 "cells": [
  {
   "cell_type": "markdown",
   "id": "808a447d-f308-43e2-9d9f-1b23fdd6bfc1",
   "metadata": {},
   "source": [
    "# Data Science Project Notebook"
   ]
  },
  {
   "cell_type": "code",
   "execution_count": null,
   "id": "35f47d59-c1f5-4b9e-b468-26a54c412b15",
   "metadata": {},
   "outputs": [],
   "source": []
  },
  {
   "cell_type": "code",
   "execution_count": null,
   "id": "eb902de7-8067-4e43-a06f-12d1ec972ed3",
   "metadata": {},
   "outputs": [],
   "source": [
    "## Introduction\n",
    "This notebook demonstrates key elements in Data Science, covering languages, libraries, tools, and examples of basic operations.\n"
   ]
  },
  {
   "cell_type": "code",
   "execution_count": null,
   "id": "3f7509e0-03e5-4b31-adc0-449f466d435b",
   "metadata": {},
   "outputs": [],
   "source": [
    "## Data Science Languages\n",
    "The main programming languages used in Data Science include:\n",
    "- Python\n",
    "- R\n",
    "- SQL\n",
    "- Julia\n",
    "- Scala\n"
   ]
  },
  {
   "cell_type": "code",
   "execution_count": null,
   "id": "2a87c90f-65c3-45b7-ad0d-fe4893f7049c",
   "metadata": {},
   "outputs": [],
   "source": [
    "## Data Science Libraries\n",
    "Some popular libraries used in Data Science are:\n",
    "- Pandas\n",
    "- NumPy\n",
    "- Matplotlib\n",
    "- SciKit-Learn\n",
    "- TensorFlow\n"
   ]
  },
  {
   "cell_type": "code",
   "execution_count": null,
   "id": "85e5f376-4023-4b2b-a91e-0e69fbf67507",
   "metadata": {},
   "outputs": [],
   "source": [
    "## Data Science Tools\n",
    "| Tool             | Description                        |\n",
    "|------------------|------------------------------------|\n",
    "| Jupyter Notebook | Interactive computing environment |\n",
    "| RStudio          | IDE for R                          |\n",
    "| Apache Spark     | Data processing framework         |\n"
   ]
  },
  {
   "cell_type": "code",
   "execution_count": null,
   "id": "e825c590-33d6-4e61-8075-d9f65913d27e",
   "metadata": {},
   "outputs": [],
   "source": [
    "## Arithmetic Expression Examples\n",
    "Below are examples of basic arithmetic expressions like addition, multiplication, etc., used in Python.\n"
   ]
  },
  {
   "cell_type": "code",
   "execution_count": 1,
   "id": "764adf11-4ffd-4130-9a45-b26e9b55b051",
   "metadata": {},
   "outputs": [
    {
     "data": {
      "text/plain": [
       "60"
      ]
     },
     "execution_count": 1,
     "metadata": {},
     "output_type": "execute_result"
    }
   ],
   "source": [
    "# Code cell for arithmetic operations\n",
    "a = 5\n",
    "b = 10\n",
    "result = a * b + b\n",
    "result\n"
   ]
  },
  {
   "cell_type": "code",
   "execution_count": 2,
   "id": "3dfd7163-216f-46e9-9b0f-0fe9c4e2bb86",
   "metadata": {},
   "outputs": [
    {
     "data": {
      "text/plain": [
       "2.5"
      ]
     },
     "execution_count": 2,
     "metadata": {},
     "output_type": "execute_result"
    }
   ],
   "source": [
    "# Code cell to convert minutes to hours\n",
    "minutes = 150\n",
    "hours = minutes / 60\n",
    "hours\n"
   ]
  },
  {
   "cell_type": "code",
   "execution_count": 3,
   "id": "75b2a22e-cc7f-49fc-93ca-998a9c29dc53",
   "metadata": {},
   "outputs": [
    {
     "ename": "SyntaxError",
     "evalue": "invalid syntax (2049075339.py, line 2)",
     "output_type": "error",
     "traceback": [
      "\u001b[1;36m  Cell \u001b[1;32mIn[3], line 2\u001b[1;36m\u001b[0m\n\u001b[1;33m    The objectives of this notebook are:\u001b[0m\n\u001b[1;37m        ^\u001b[0m\n\u001b[1;31mSyntaxError\u001b[0m\u001b[1;31m:\u001b[0m invalid syntax\n"
     ]
    }
   ],
   "source": [
    "## Objectives\n",
    "The objectives of this notebook are:\n",
    "- List popular languages for data science\n",
    "- List commonly used libraries for data science\n",
    "- Introduce tools for data science\n",
    "- Demonstrate basic arithmetic operations\n",
    "- Show how to convert time units (e.g., minutes to hours)\n"
   ]
  },
  {
   "cell_type": "code",
   "execution_count": null,
   "id": "d523b1cc-3491-41de-89cc-e7e0a8c5177a",
   "metadata": {},
   "outputs": [],
   "source": [
    "## Author\n",
    "Yashraj sawant"
   ]
  }
 ],
 "metadata": {
  "kernelspec": {
   "display_name": "Python 3 (ipykernel)",
   "language": "python",
   "name": "python3"
  },
  "language_info": {
   "codemirror_mode": {
    "name": "ipython",
    "version": 3
   },
   "file_extension": ".py",
   "mimetype": "text/x-python",
   "name": "python",
   "nbconvert_exporter": "python",
   "pygments_lexer": "ipython3",
   "version": "3.11.7"
  }
 },
 "nbformat": 4,
 "nbformat_minor": 5
}
